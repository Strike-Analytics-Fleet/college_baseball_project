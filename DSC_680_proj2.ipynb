{
 "cells": [
  {
   "cell_type": "code",
   "execution_count": 20,
   "id": "eb4c9495",
   "metadata": {},
   "outputs": [],
   "source": [
    "import pandas as pd  \n",
    "import numpy as np  \n",
    "from sklearn.model_selection import train_test_split  \n",
    "from sklearn.linear_model import LinearRegression    \n",
    "from sklearn.preprocessing import OneHotEncoder \n",
    "from sklearn.metrics import mean_squared_error, r2_score, mean_absolute_error\n",
    "# Load data  \n",
    "data = pd.read_excel('college_baseball.xlsx')  "
   ]
  },
  {
   "cell_type": "code",
   "execution_count": 21,
   "id": "8cd7c395",
   "metadata": {},
   "outputs": [
    {
     "data": {
      "text/html": [
       "<div>\n",
       "<style scoped>\n",
       "    .dataframe tbody tr th:only-of-type {\n",
       "        vertical-align: middle;\n",
       "    }\n",
       "\n",
       "    .dataframe tbody tr th {\n",
       "        vertical-align: top;\n",
       "    }\n",
       "\n",
       "    .dataframe thead th {\n",
       "        text-align: right;\n",
       "    }\n",
       "</style>\n",
       "<table border=\"1\" class=\"dataframe\">\n",
       "  <thead>\n",
       "    <tr style=\"text-align: right;\">\n",
       "      <th></th>\n",
       "      <th>YEAR</th>\n",
       "      <th>Team</th>\n",
       "      <th>AVG</th>\n",
       "      <th>G</th>\n",
       "      <th>AB</th>\n",
       "      <th>R</th>\n",
       "      <th>H</th>\n",
       "      <th>2B</th>\n",
       "      <th>3B</th>\n",
       "      <th>HR</th>\n",
       "      <th>...</th>\n",
       "      <th>R_ALLOWED</th>\n",
       "      <th>ER_ALLOWED</th>\n",
       "      <th>W_ALLOWED</th>\n",
       "      <th>DBL_ALLOWED</th>\n",
       "      <th>TPL_ALLOWED</th>\n",
       "      <th>HR_ALLOWED</th>\n",
       "      <th>WILD_PITCH</th>\n",
       "      <th>BALK</th>\n",
       "      <th>HBP.1</th>\n",
       "      <th>W_INTENTIONAL</th>\n",
       "    </tr>\n",
       "  </thead>\n",
       "  <tbody>\n",
       "    <tr>\n",
       "      <th>0</th>\n",
       "      <td>2015</td>\n",
       "      <td>Alabama</td>\n",
       "      <td>0.275</td>\n",
       "      <td>60</td>\n",
       "      <td>2089</td>\n",
       "      <td>315</td>\n",
       "      <td>575</td>\n",
       "      <td>105</td>\n",
       "      <td>20</td>\n",
       "      <td>27</td>\n",
       "      <td>...</td>\n",
       "      <td>271</td>\n",
       "      <td>247</td>\n",
       "      <td>248</td>\n",
       "      <td>98</td>\n",
       "      <td>10</td>\n",
       "      <td>28</td>\n",
       "      <td>53</td>\n",
       "      <td>4</td>\n",
       "      <td>43</td>\n",
       "      <td>7</td>\n",
       "    </tr>\n",
       "    <tr>\n",
       "      <th>1</th>\n",
       "      <td>2015</td>\n",
       "      <td>Arkansas</td>\n",
       "      <td>0.288</td>\n",
       "      <td>65</td>\n",
       "      <td>2164</td>\n",
       "      <td>387</td>\n",
       "      <td>623</td>\n",
       "      <td>107</td>\n",
       "      <td>18</td>\n",
       "      <td>53</td>\n",
       "      <td>...</td>\n",
       "      <td>304</td>\n",
       "      <td>259</td>\n",
       "      <td>282</td>\n",
       "      <td>80</td>\n",
       "      <td>6</td>\n",
       "      <td>35</td>\n",
       "      <td>48</td>\n",
       "      <td>8</td>\n",
       "      <td>70</td>\n",
       "      <td>6</td>\n",
       "    </tr>\n",
       "    <tr>\n",
       "      <th>2</th>\n",
       "      <td>2015</td>\n",
       "      <td>Auburn</td>\n",
       "      <td>0.273</td>\n",
       "      <td>62</td>\n",
       "      <td>2029</td>\n",
       "      <td>301</td>\n",
       "      <td>553</td>\n",
       "      <td>109</td>\n",
       "      <td>18</td>\n",
       "      <td>18</td>\n",
       "      <td>...</td>\n",
       "      <td>254</td>\n",
       "      <td>208</td>\n",
       "      <td>212</td>\n",
       "      <td>87</td>\n",
       "      <td>12</td>\n",
       "      <td>33</td>\n",
       "      <td>43</td>\n",
       "      <td>2</td>\n",
       "      <td>37</td>\n",
       "      <td>8</td>\n",
       "    </tr>\n",
       "    <tr>\n",
       "      <th>3</th>\n",
       "      <td>2015</td>\n",
       "      <td>Florida</td>\n",
       "      <td>0.298</td>\n",
       "      <td>70</td>\n",
       "      <td>2417</td>\n",
       "      <td>489</td>\n",
       "      <td>720</td>\n",
       "      <td>129</td>\n",
       "      <td>24</td>\n",
       "      <td>66</td>\n",
       "      <td>...</td>\n",
       "      <td>247</td>\n",
       "      <td>220</td>\n",
       "      <td>184</td>\n",
       "      <td>82</td>\n",
       "      <td>14</td>\n",
       "      <td>47</td>\n",
       "      <td>54</td>\n",
       "      <td>3</td>\n",
       "      <td>52</td>\n",
       "      <td>13</td>\n",
       "    </tr>\n",
       "    <tr>\n",
       "      <th>4</th>\n",
       "      <td>2015</td>\n",
       "      <td>Georgia</td>\n",
       "      <td>0.267</td>\n",
       "      <td>54</td>\n",
       "      <td>1845</td>\n",
       "      <td>286</td>\n",
       "      <td>493</td>\n",
       "      <td>85</td>\n",
       "      <td>14</td>\n",
       "      <td>40</td>\n",
       "      <td>...</td>\n",
       "      <td>253</td>\n",
       "      <td>211</td>\n",
       "      <td>231</td>\n",
       "      <td>68</td>\n",
       "      <td>11</td>\n",
       "      <td>30</td>\n",
       "      <td>37</td>\n",
       "      <td>8</td>\n",
       "      <td>46</td>\n",
       "      <td>5</td>\n",
       "    </tr>\n",
       "  </tbody>\n",
       "</table>\n",
       "<p>5 rows × 48 columns</p>\n",
       "</div>"
      ],
      "text/plain": [
       "   YEAR      Team    AVG   G    AB    R    H   2B  3B  HR  ...  R_ALLOWED  \\\n",
       "0  2015   Alabama  0.275  60  2089  315  575  105  20  27  ...        271   \n",
       "1  2015  Arkansas  0.288  65  2164  387  623  107  18  53  ...        304   \n",
       "2  2015    Auburn  0.273  62  2029  301  553  109  18  18  ...        254   \n",
       "3  2015   Florida  0.298  70  2417  489  720  129  24  66  ...        247   \n",
       "4  2015   Georgia  0.267  54  1845  286  493   85  14  40  ...        253   \n",
       "\n",
       "   ER_ALLOWED  W_ALLOWED  DBL_ALLOWED  TPL_ALLOWED  HR_ALLOWED  WILD_PITCH  \\\n",
       "0         247        248           98           10          28          53   \n",
       "1         259        282           80            6          35          48   \n",
       "2         208        212           87           12          33          43   \n",
       "3         220        184           82           14          47          54   \n",
       "4         211        231           68           11          30          37   \n",
       "\n",
       "   BALK  HBP.1  W_INTENTIONAL  \n",
       "0     4     43              7  \n",
       "1     8     70              6  \n",
       "2     2     37              8  \n",
       "3     3     52             13  \n",
       "4     8     46              5  \n",
       "\n",
       "[5 rows x 48 columns]"
      ]
     },
     "execution_count": 21,
     "metadata": {},
     "output_type": "execute_result"
    }
   ],
   "source": [
    "data.head()"
   ]
  },
  {
   "cell_type": "code",
   "execution_count": 22,
   "id": "9510d95e",
   "metadata": {},
   "outputs": [],
   "source": [
    "#Begin Preprocessing Dataset\n",
    "# One-Hot Encoding for categorical features  \n",
    "cat_features = ['Team']  # Add any other categorical features to this list  \n",
    "data = pd.get_dummies(data, columns=cat_features)  \n",
    "  \n",
    "# Define features (X) and target (y)  \n",
    "X = data.drop('ERA', axis=1)  \n",
    "y = data['ERA']  \n",
    "  \n",
    "# Split the data into training and testing sets  \n",
    "X_train, X_test, y_train, y_test = train_test_split(X, y, test_size=0.2, random_state=42)  \n",
    "  \n",
    "# Train a machine learning model (Linear Regression)  \n",
    "model = LinearRegression()  \n",
    "model.fit(X_train, y_train)  \n",
    "  \n",
    "# Make predictions on the test set  \n",
    "y_pred = model.predict(X_test)  "
   ]
  },
  {
   "cell_type": "code",
   "execution_count": 23,
   "id": "1459c6b2",
   "metadata": {},
   "outputs": [
    {
     "name": "stdout",
     "output_type": "stream",
     "text": [
      "Mean Squared Error: 0.027793916375930153\n"
     ]
    }
   ],
   "source": [
    "# Evaluate the performance of the model  \n",
    "mse = mean_squared_error(y_test, y_pred)  \n",
    "print(f\"Mean Squared Error: {mse}\")"
   ]
  },
  {
   "cell_type": "code",
   "execution_count": 24,
   "id": "cf952ada",
   "metadata": {},
   "outputs": [
    {
     "name": "stdout",
     "output_type": "stream",
     "text": [
      "R-squared: 0.9537784683389203\n",
      "Mean Absolute Error: 0.12789058182041038\n"
     ]
    }
   ],
   "source": [
    "# Compute R-squared  \n",
    "r2 = r2_score(y_test, y_pred)  \n",
    "print(f\"R-squared: {r2}\")  \n",
    "  \n",
    "# Compute Mean Absolute Error  \n",
    "mae = mean_absolute_error(y_test, y_pred)  \n",
    "print(f\"Mean Absolute Error: {mae}\")  "
   ]
  },
  {
   "cell_type": "markdown",
   "id": "d8e8a95f",
   "metadata": {},
   "source": [
    "#### Understanding the Model's Performance\n",
    "\n",
    "I have evaluated my Linear Regression model, trained to predict the pitching performance of college baseball teams, using multiple metrics. The model's Mean Squared Error (MSE) is 0.0278, R-squared is 0.9538, and Mean Absolute Error (MAE) is 0.1279. The R-squared value of 0.9538 indicates that approximately 95.38% of the variation in the data can be explained by my model, which is a strong result. Additionally, the MAE of 0.1279 represents the average absolute difference between the actual and predicted values. Considering all three metrics together, I can conclude that my model is performing well in predicting the pitching performance of college baseball teams. However, it's essential to remember that there's always room for improvement, and I could explore other algorithms or feature engineering techniques to optimize the model's performance further."
   ]
  },
  {
   "cell_type": "markdown",
   "id": "76647b54",
   "metadata": {},
   "source": [
    "#### Prediction Analysis and Explaination\n",
    "In this part of the code, I am making predictions for 2024 using the trained model and finding the team with the best predicted pitching performance.\n",
    "\n",
    "* y_pred_2024 = model.predict(data_2024): I use the trained model to make predictions on the 2024 data. The variable data_2024 should contain the feature values for each team in 2024, and it must have the same structure as the original dataset used for training.\n",
    "* best_team_index = np.argmin(y_pred_2024): I find the index of the team with the best predicted pitching performance. Since I assume lower values represent better performance, I use np.argmin to find the index of the minimum value in the y_pred_2024 array.\n",
    "* best_team = data_2024.iloc[best_team_index]['Team']: I use the index obtained in the previous step to get the corresponding team name from the data_2024 DataFrame."
   ]
  },
  {
   "cell_type": "code",
   "execution_count": 27,
   "id": "ac30eebe",
   "metadata": {},
   "outputs": [
    {
     "name": "stdout",
     "output_type": "stream",
     "text": [
      "The team with the best predicted pitching performance for 2024 is: Auburn\n"
     ]
    }
   ],
   "source": [
    "# I create a DataFrame for 2024 with the same structure as my original data  \n",
    "original_data = pd.read_excel('college_baseball.xlsx')  \n",
    "data_2024 = pd.DataFrame({  \n",
    "    'YEAR': [2024] * len(original_data['Team'].unique()),  \n",
    "    'Team': original_data['Team'].unique(),  \n",
    "    # I add other columns and values for 2024  \n",
    "    # For example, I use the average values of the previous years:  \n",
    "    'AVG': [original_data['AVG'].mean()] * len(original_data['Team'].unique()),  \n",
    "    # ... (add other columns as necessary)  \n",
    "})  \n",
    "  \n",
    "# I preprocess 2024 data: One-Hot Encoding for categorical features  \n",
    "data_2024_encoded = pd.get_dummies(data_2024, columns=cat_features)  \n",
    "  \n",
    "# I add missing columns with values set to zero  \n",
    "missing_cols = set(data.columns) - set(data_2024_encoded.columns)  \n",
    "for col in missing_cols:  \n",
    "    data_2024_encoded[col] = 0  \n",
    "  \n",
    "# I reorder the columns of data_2024_encoded to match the order of the columns in the original data  \n",
    "data_2024_encoded = data_2024_encoded[data.columns]  \n",
    "  \n",
    "# I make predictions for 2024  \n",
    "y_pred_2024 = model.predict(data_2024_encoded.drop('ERA', axis=1))  \n",
    "  \n",
    "# I find the team with the best predicted performance  \n",
    "best_team_index = np.argmin(y_pred_2024)  \n",
    "best_team = data_2024.iloc[best_team_index]['Team']  \n",
    "print(f\"The team with the best predicted pitching performance for 2024 is: {best_team}\")  \n"
   ]
  },
  {
   "cell_type": "markdown",
   "id": "9cd4063d",
   "metadata": {},
   "source": [
    "#### Visualizing the Data and Results\n",
    "\n",
    "* In the first graph, I have visualized the distribution of actual ERA values in the test dataset. This histogram shows the frequency of different ERA values, helping me understand the overall distribution of the pitching performance in the test set.\n",
    "\n",
    "* The second graph presents the distribution of predicted ERA values generated by the model. Comparing this histogram to the first one, I can see how well the model's predictions match the actual data's distribution. Ideally, the shapes of these two histograms should be similar to indicate the model's ability to capture the underlying distribution of the data.\n",
    "\n",
    "* The third graph is a scatter plot of actual vs. predicted ERA values. This plot helps me visualize the relationship between the true and predicted values. If the model's predictions are accurate, the points should lie close to a diagonal line. This plot is useful for identifying outliers or any trends in the model's predictions.\n",
    "\n",
    "* In the fourth graph, I have created a residual plot of the actual vs. predicted ERA values. The residuals are the differences between the actual and predicted values. This plot shows the distribution of residuals across different ERA values and helps me identify any patterns or issues in the model's predictions. Ideally, the residuals should be randomly distributed around the zero line, indicating that the model's errors are random and not influenced by specific trends or patterns in the data.\n"
   ]
  },
  {
   "cell_type": "code",
   "execution_count": 28,
   "id": "497b9f23",
   "metadata": {
    "scrolled": true
   },
   "outputs": [
    {
     "data": {
      "image/png": "[encoded data removed]",
      "text/plain": [
       "<Figure size 720x360 with 1 Axes>"
      ]
     },
     "metadata": {
      "needs_background": "light"
     },
     "output_type": "display_data"
    },
    {
     "data": {
      "image/png": "[encoded data removed]",
      "text/plain": [
       "<Figure size 720x360 with 1 Axes>"
      ]
     },
     "metadata": {
      "needs_background": "light"
     },
     "output_type": "display_data"
    }
   ],
   "source": [
    "import matplotlib.pyplot as plt  \n",
    "import seaborn as sns  \n",
    "  \n",
    "# Distribution of Actual ERA values  \n",
    "plt.figure(figsize=(10, 5))  \n",
    "sns.histplot(y_test, kde=True, bins=20)  \n",
    "plt.title('Distribution of Actual ERA Values')  \n",
    "plt.xlabel('ERA')  \n",
    "plt.ylabel('Frequency')  \n",
    "plt.show()  \n",
    "  \n",
    "# Distribution of Predicted ERA values  \n",
    "plt.figure(figsize=(10, 5))  \n",
    "sns.histplot(y_pred, kde=True, bins=20, color='orange')  \n",
    "plt.title('Distribution of Predicted ERA Values')  \n",
    "plt.xlabel('ERA')  \n",
    "plt.ylabel('Frequency')  \n",
    "plt.show()  "
   ]
  },
  {
   "cell_type": "code",
   "execution_count": 29,
   "id": "9fc9b7c6",
   "metadata": {},
   "outputs": [
    {
     "data": {
      "image/png": "[encoded data removed]",
      "text/plain": [
       "<Figure size 720x360 with 1 Axes>"
      ]
     },
     "metadata": {
      "needs_background": "light"
     },
     "output_type": "display_data"
    },
    {
     "data": {
      "image/png": "[encoded data removed]",
      "text/plain": [
       "<Figure size 720x360 with 1 Axes>"
      ]
     },
     "metadata": {
      "needs_background": "light"
     },
     "output_type": "display_data"
    }
   ],
   "source": [
    "# Scatter plot of Actual vs. Predicted ERA values  \n",
    "plt.figure(figsize=(10, 5))  \n",
    "sns.scatterplot(x=y_test, y=y_pred)  \n",
    "plt.title('Actual vs. Predicted ERA Values')  \n",
    "plt.xlabel('Actual ERA')  \n",
    "plt.ylabel('Predicted ERA')  \n",
    "plt.show()  \n",
    "  \n",
    "# Residual plot of Actual vs. Predicted ERA values  \n",
    "plt.figure(figsize=(10, 5))  \n",
    "sns.residplot(x=y_test, y=y_pred, lowess=True)  \n",
    "plt.title('Residual Plot: Actual vs. Predicted ERA Values')  \n",
    "plt.xlabel('Actual ERA')  \n",
    "plt.ylabel('Residuals')  \n",
    "plt.show()  "
   ]
  }
 ],
 "metadata": {
  "kernelspec": {
   "display_name": "Python 3 (ipykernel)",
   "language": "python",
   "name": "python3"
  },
  "language_info": {
   "codemirror_mode": {
    "name": "ipython",
    "version": 3
   },
   "file_extension": ".py",
   "mimetype": "text/x-python",
   "name": "python",
   "nbconvert_exporter": "python",
   "pygments_lexer": "ipython3",
   "version": "3.9.12"
  }
 },
 "nbformat": 4,
 "nbformat_minor": 5
}
